{
 "cells": [
  {
   "cell_type": "code",
   "execution_count": 2,
   "metadata": {},
   "outputs": [
    {
     "data": {
      "text/html": [
       "<style>.container { width:98% !important; }</style>"
      ],
      "text/plain": [
       "<IPython.core.display.HTML object>"
      ]
     },
     "metadata": {},
     "output_type": "display_data"
    }
   ],
   "source": [
    "from IPython.display import display, HTML\n",
    "display(HTML(\"<style>.container { width:98% !important; }</style>\"))"
   ]
  },
  {
   "cell_type": "code",
   "execution_count": 3,
   "metadata": {},
   "outputs": [],
   "source": [
    "import sys\n",
    "sys.path.append('../')\n",
    "\n",
    "import time\n",
    "import numpy as np\n",
    "from math import sqrt\n",
    "from utils import paras\n",
    "import sys\n",
    "import os\n",
    "import pickle\n",
    "import argparse\n",
    "import numpy as np\n",
    "from env import *\n",
    "from algo import *\n",
    "from utils import Logger\n",
    "from bandit_algo import *\n",
    "import matplotlib.pyplot as plt"
   ]
  },
  {
   "cell_type": "code",
   "execution_count": 4,
   "metadata": {},
   "outputs": [],
   "source": [
    "eps = 1e-5"
   ]
  },
  {
   "cell_type": "code",
   "execution_count": 5,
   "metadata": {},
   "outputs": [],
   "source": [
    "class SCO_batch_env:\n",
    "    def __init__(self, params):\n",
    "        paras(self, params)\n",
    "        self.random_seed = params['env']['random_seed']\n",
    "        self.x_std = params['env']['x_std']\n",
    "        self.y_std = params['env']['y_std']\n",
    "        self.algo = params['algo']['type']\n",
    "        self.p = params['env']['p']\n",
    "        if np.isinf(self.p):\n",
    "            self.q = 1\n",
    "        else:\n",
    "            self.q = self.p / (self.p - 1)\n",
    "        self.logger = params['logger']\n",
    "    \n",
    "    def run(self):\n",
    "        # init theta\n",
    "        theta = np.zeros(shape = self.size_SCO)\n",
    "        theta[:self.s] = 1\n",
    "        theta /= np.linalg.norm(theta.flatten(), self.p)\n",
    "        \n",
    "        X = np.random.normal(0, self.x_std, size = (self.T, self.d))\n",
    "        X = np.array([x/np.linalg.norm(x, self.q) for x in X])\n",
    "        noise = np.random.normal(0, self.y_std, size=(self.T, 1))\n",
    "        y = X.dot(theta) + noise\n",
    "        S = np.hstack((X,y))\n",
    "        self.theta_hat = self.algo.train(S, theta, self.logger)\n"
   ]
  },
  {
   "cell_type": "code",
   "execution_count": 6,
   "metadata": {},
   "outputs": [],
   "source": [
    "class Algo(object):\n",
    "    def __init__(self, params):\n",
    "        paras(self, params)\n",
    "\n",
    "    def update(self, theta0, theta1, x, y):\n",
    "        pass\n",
    "\n",
    "    def train(self,theta):\n",
    "        self.start_time = time.time()\n",
    "        X = np.random.normal(0, self.x_std, size=(self.test_size, self.d))\n",
    "        self.X = np.array([x/np.linalg.norm(x, self.q) for x in X])\n",
    "        self.y = self.X.dot(theta) + np.random.normal(0, self.y_std, size=(self.test_size, 1))\n",
    "        self.baseline = ((self.X.dot(np.zeros(self.size_SCO)) - self.y) ** 2).sum() / self.test_size\n",
    "        self.opt_risk = ((self.X.dot(theta) - self.y) ** 2).sum() / self.test_size\n",
    "        self.logger.record('baseline', self.baseline)\n",
    "\n",
    "    def test(self, t, theta_hat):\n",
    "        self.risk = ((self.X.dot(theta_hat) - self.y) ** 2).sum() / self.test_size\n",
    "        self.subopt = (self.risk - self.opt_risk)/(self.baseline-self.opt_risk)\n",
    "        self.logger.record('record', [t, self.risk, self.subopt])"
   ]
  },
  {
   "cell_type": "code",
   "execution_count": null,
   "metadata": {},
   "outputs": [],
   "source": []
  },
  {
   "cell_type": "code",
   "execution_count": 7,
   "metadata": {},
   "outputs": [],
   "source": [
    "class NoisySGD(Algo):\n",
    "    '''\n",
    "    Algorithm 2 in Stability of Stochastic Gradient Descent on Nonsmooth Convex Losses for 2<p<=infty\n",
    "    Learning rate should be <=1. Be careful, the noise is in scaling of learning rate\n",
    "    '''\n",
    "    def __init__(self, params):\n",
    "        paras(self, params)\n",
    "        self.random_seed = params['env']['random_seed']\n",
    "        self.kappa = min(1/(self.d-1), 2*log(self.d)) \n",
    "        self.p = params['env']['p']\n",
    "        if np.isinf(self.p):\n",
    "            self.q = 1\n",
    "        else:\n",
    "            self.q = self.p / (self.p - 1)\n",
    "        \n",
    "    def train(self, S, theta, logger):\n",
    "        self.logger = logger\n",
    "        super().train(theta)\n",
    "        r = np.linalg.norm(theta.flatten(), self.p)\n",
    "        n = S.shape[0]\n",
    "        sigma = sqrt(8*self.L0**2*log(1/self.delta)/self.eps**2)\n",
    "        theta1 = np.zeros(shape = (self.d, 1))\n",
    "        theta_list = list()\n",
    "        if self.noise_free: \n",
    "            noise_mechanism = functools.partial(int, 0)\n",
    "        else:\n",
    "            noise_mechanism = functools.partial(np.random.normal, loc = 0, scale = sigma, size = (self.d, 1))\n",
    "\n",
    "        if self.p < np.inf:\n",
    "            proj = functools.partial(lp_projection, r = 2*r,  p = self.p)\n",
    "        else:\n",
    "            proj = functools.partial(Proj_inf, r = r)\n",
    "\n",
    "        # initial time\n",
    "        self.logger.record('time', time.time())\n",
    "        indices = np.random.choice(n, n**2)\n",
    "        GGNoises = [noise_mechanism() for _ in range(n**2-1)]\n",
    "        X = S[:, :-1]\n",
    "        Y = S[:, -1]\n",
    "        for t in range(n**2-1):\n",
    "            i = indices[t]\n",
    "            GGNoise = GGNoises[t]\n",
    "            etat = r/(self.L0*n*max(sqrt(n), sqrt(self.d*log(1/self.delta))/self.eps))*self.lr_scale\n",
    "            theta1 = proj(theta1 - etat*(clip(compute_linear_gradient(theta1, X[i].reshape((-1, 1)), Y[i]).reshape((-1, 1)), self.L0, self.q) + GGNoise))\n",
    "            theta_list.append(theta1)\n",
    "            if t%(n**2//self.test_freq)==0:\n",
    "                self.test(t, theta1)\n",
    "\n",
    "        self.logger.record('time', time.time() - self.logger.dict['time'][0])\n",
    "        return np.mean(theta_list, axis = 0)"
   ]
  },
  {
   "cell_type": "code",
   "execution_count": 11,
   "metadata": {},
   "outputs": [],
   "source": [
    "def generate_params(algo, seed, p, d = 5, T = int(1e2), scale = 1, lip=1, noise_free = False, test_flag = False\n",
    "):  \n",
    "    params = dict()\n",
    "    params['env'] = {\"random_seed\": seed,\n",
    "                     \"T\": T,\n",
    "                     \"d\": d,\n",
    "                     \"s\": 5,  \n",
    "                     \"k\": 5,\n",
    "                     \"p\": p, \n",
    "                     \"x_std\": 0.05,\n",
    "                     \"y_std\": 0.05,\n",
    "                     \"test_size\": 1000, \n",
    "                     \"test_freq\" : T,\n",
    "                     \"lip\": lip,\n",
    "                     }\n",
    "\n",
    "    np.random.seed(seed)\n",
    "    \n",
    "    logger = Logger()\n",
    "    params['prv'] = {\"eps\": 1,\n",
    "                     \"delta\": 1/params['env']['T']}\n",
    "    params['logger'] = logger\n",
    "    params['algo'] = dict()\n",
    "    params['algo']['lr_scale'] = scale\n",
    "    params['algo']['noise_free'] = noise_free\n",
    "    params['algo']['test_flag'] = test_flag\n",
    "    params['bandit'] = dict()\n",
    "    if algo == 'OFW_ple2':\n",
    "        params['algo']['type'] = OFW_ple2(params)\n",
    "        env = SCO_steam_env(params)\n",
    "    elif algo == 'OFW_pge2':\n",
    "        params['algo']['type'] = OFW_pge2(params)\n",
    "        env = SCO_steam_env(params)\n",
    "    elif algo == 'Local_MD':\n",
    "        params['algo']['type'] = Local_MD(params)\n",
    "        env = SCO_batch_env(params)\n",
    "    elif algo=='NoisySFW':\n",
    "        params['algo']['type'] = NoisySFW(params)\n",
    "        env = SCO_batch_env(params)\n",
    "    elif algo=='NoisySGD':\n",
    "        params['algo']['type'] = NoisySGD(params)\n",
    "        env = SCO_batch_env(params)\n",
    "    elif algo=='DPUCB':\n",
    "        params['algo']['type'] = DPUCB(params)\n",
    "        params['bandit']['multi'] = False\n",
    "        env = bandits_env(params)\n",
    "    elif algo=='OFW_peq1':\n",
    "        params['algo']['type'] = OFW_peq1(params)\n",
    "        params['bandit']['multi'] = True\n",
    "        env = bandits_env(params)\n",
    "        \n",
    "    env.run()\n",
    "    params['result'] = env.logger.dict\n",
    "    return p, d, T, algo, str(scale), str(noise_free), str(test_flag), params"
   ]
  },
  {
   "cell_type": "code",
   "execution_count": 12,
   "metadata": {},
   "outputs": [
    {
     "ename": "KeyboardInterrupt",
     "evalue": "",
     "output_type": "error",
     "traceback": [
      "\u001b[0;31m---------------------------------------------------------------------------\u001b[0m",
      "\u001b[0;31mKeyboardInterrupt\u001b[0m                         Traceback (most recent call last)",
      "\u001b[0;32m<ipython-input-12-e41cb2dabf47>\u001b[0m in \u001b[0;36m<module>\u001b[0;34m\u001b[0m\n\u001b[1;32m      8\u001b[0m \u001b[0mnoise_free\u001b[0m \u001b[0;34m=\u001b[0m \u001b[0;32mFalse\u001b[0m\u001b[0;34m\u001b[0m\u001b[0;34m\u001b[0m\u001b[0m\n\u001b[1;32m      9\u001b[0m p, d, T, algo, scale, noise_free, test_flag, params  = generate_params('NoisySGD', seed=seed, p=p, d=d, T=T, scale=eta_scaling,\n\u001b[0;32m---> 10\u001b[0;31m                                                                       noise_free = noise_free, lip=lip, test_flag = test_flag)\n\u001b[0m\u001b[1;32m     11\u001b[0m \u001b[0;34m\u001b[0m\u001b[0m\n\u001b[1;32m     12\u001b[0m \u001b[0;34m\u001b[0m\u001b[0m\n",
      "\u001b[0;32m<ipython-input-11-aa41712de990>\u001b[0m in \u001b[0;36mgenerate_params\u001b[0;34m(algo, seed, p, d, T, scale, lip, noise_free, test_flag)\u001b[0m\n\u001b[1;32m     50\u001b[0m         \u001b[0menv\u001b[0m \u001b[0;34m=\u001b[0m \u001b[0mbandits_env\u001b[0m\u001b[0;34m(\u001b[0m\u001b[0mparams\u001b[0m\u001b[0;34m)\u001b[0m\u001b[0;34m\u001b[0m\u001b[0;34m\u001b[0m\u001b[0m\n\u001b[1;32m     51\u001b[0m \u001b[0;34m\u001b[0m\u001b[0m\n\u001b[0;32m---> 52\u001b[0;31m     \u001b[0menv\u001b[0m\u001b[0;34m.\u001b[0m\u001b[0mrun\u001b[0m\u001b[0;34m(\u001b[0m\u001b[0;34m)\u001b[0m\u001b[0;34m\u001b[0m\u001b[0;34m\u001b[0m\u001b[0m\n\u001b[0m\u001b[1;32m     53\u001b[0m     \u001b[0mparams\u001b[0m\u001b[0;34m[\u001b[0m\u001b[0;34m'result'\u001b[0m\u001b[0;34m]\u001b[0m \u001b[0;34m=\u001b[0m \u001b[0menv\u001b[0m\u001b[0;34m.\u001b[0m\u001b[0mlogger\u001b[0m\u001b[0;34m.\u001b[0m\u001b[0mdict\u001b[0m\u001b[0;34m\u001b[0m\u001b[0;34m\u001b[0m\u001b[0m\n\u001b[1;32m     54\u001b[0m     \u001b[0;32mreturn\u001b[0m \u001b[0mp\u001b[0m\u001b[0;34m,\u001b[0m \u001b[0md\u001b[0m\u001b[0;34m,\u001b[0m \u001b[0mT\u001b[0m\u001b[0;34m,\u001b[0m \u001b[0malgo\u001b[0m\u001b[0;34m,\u001b[0m \u001b[0mstr\u001b[0m\u001b[0;34m(\u001b[0m\u001b[0mscale\u001b[0m\u001b[0;34m)\u001b[0m\u001b[0;34m,\u001b[0m \u001b[0mstr\u001b[0m\u001b[0;34m(\u001b[0m\u001b[0mnoise_free\u001b[0m\u001b[0;34m)\u001b[0m\u001b[0;34m,\u001b[0m \u001b[0mstr\u001b[0m\u001b[0;34m(\u001b[0m\u001b[0mtest_flag\u001b[0m\u001b[0;34m)\u001b[0m\u001b[0;34m,\u001b[0m \u001b[0mparams\u001b[0m\u001b[0;34m\u001b[0m\u001b[0;34m\u001b[0m\u001b[0m\n",
      "\u001b[0;32m<ipython-input-5-9e25ac39c5d4>\u001b[0m in \u001b[0;36mrun\u001b[0;34m(self)\u001b[0m\n\u001b[1;32m     24\u001b[0m         \u001b[0my\u001b[0m \u001b[0;34m=\u001b[0m \u001b[0mX\u001b[0m\u001b[0;34m.\u001b[0m\u001b[0mdot\u001b[0m\u001b[0;34m(\u001b[0m\u001b[0mtheta\u001b[0m\u001b[0;34m)\u001b[0m \u001b[0;34m+\u001b[0m \u001b[0mnoise\u001b[0m\u001b[0;34m\u001b[0m\u001b[0;34m\u001b[0m\u001b[0m\n\u001b[1;32m     25\u001b[0m         \u001b[0mS\u001b[0m \u001b[0;34m=\u001b[0m \u001b[0mnp\u001b[0m\u001b[0;34m.\u001b[0m\u001b[0mhstack\u001b[0m\u001b[0;34m(\u001b[0m\u001b[0;34m(\u001b[0m\u001b[0mX\u001b[0m\u001b[0;34m,\u001b[0m\u001b[0my\u001b[0m\u001b[0;34m)\u001b[0m\u001b[0;34m)\u001b[0m\u001b[0;34m\u001b[0m\u001b[0;34m\u001b[0m\u001b[0m\n\u001b[0;32m---> 26\u001b[0;31m         \u001b[0mself\u001b[0m\u001b[0;34m.\u001b[0m\u001b[0mtheta_hat\u001b[0m \u001b[0;34m=\u001b[0m \u001b[0mself\u001b[0m\u001b[0;34m.\u001b[0m\u001b[0malgo\u001b[0m\u001b[0;34m.\u001b[0m\u001b[0mtrain\u001b[0m\u001b[0;34m(\u001b[0m\u001b[0mS\u001b[0m\u001b[0;34m,\u001b[0m \u001b[0mtheta\u001b[0m\u001b[0;34m,\u001b[0m \u001b[0mself\u001b[0m\u001b[0;34m.\u001b[0m\u001b[0mlogger\u001b[0m\u001b[0;34m)\u001b[0m\u001b[0;34m\u001b[0m\u001b[0;34m\u001b[0m\u001b[0m\n\u001b[0m",
      "\u001b[0;32m<ipython-input-7-ebeba3db4c4f>\u001b[0m in \u001b[0;36mtrain\u001b[0;34m(self, S, theta, logger)\u001b[0m\n\u001b[1;32m     42\u001b[0m             \u001b[0mGGNoise\u001b[0m \u001b[0;34m=\u001b[0m \u001b[0mGGNoises\u001b[0m\u001b[0;34m[\u001b[0m\u001b[0mt\u001b[0m\u001b[0;34m]\u001b[0m\u001b[0;34m\u001b[0m\u001b[0;34m\u001b[0m\u001b[0m\n\u001b[1;32m     43\u001b[0m             \u001b[0metat\u001b[0m \u001b[0;34m=\u001b[0m \u001b[0mr\u001b[0m\u001b[0;34m/\u001b[0m\u001b[0;34m(\u001b[0m\u001b[0mself\u001b[0m\u001b[0;34m.\u001b[0m\u001b[0mL0\u001b[0m\u001b[0;34m*\u001b[0m\u001b[0mn\u001b[0m\u001b[0;34m*\u001b[0m\u001b[0mmax\u001b[0m\u001b[0;34m(\u001b[0m\u001b[0msqrt\u001b[0m\u001b[0;34m(\u001b[0m\u001b[0mn\u001b[0m\u001b[0;34m)\u001b[0m\u001b[0;34m,\u001b[0m \u001b[0msqrt\u001b[0m\u001b[0;34m(\u001b[0m\u001b[0mself\u001b[0m\u001b[0;34m.\u001b[0m\u001b[0md\u001b[0m\u001b[0;34m*\u001b[0m\u001b[0mlog\u001b[0m\u001b[0;34m(\u001b[0m\u001b[0;36m1\u001b[0m\u001b[0;34m/\u001b[0m\u001b[0mself\u001b[0m\u001b[0;34m.\u001b[0m\u001b[0mdelta\u001b[0m\u001b[0;34m)\u001b[0m\u001b[0;34m)\u001b[0m\u001b[0;34m/\u001b[0m\u001b[0mself\u001b[0m\u001b[0;34m.\u001b[0m\u001b[0meps\u001b[0m\u001b[0;34m)\u001b[0m\u001b[0;34m)\u001b[0m\u001b[0;34m*\u001b[0m\u001b[0mself\u001b[0m\u001b[0;34m.\u001b[0m\u001b[0mlr_scale\u001b[0m\u001b[0;34m\u001b[0m\u001b[0;34m\u001b[0m\u001b[0m\n\u001b[0;32m---> 44\u001b[0;31m             \u001b[0mtheta1\u001b[0m \u001b[0;34m=\u001b[0m \u001b[0mproj\u001b[0m\u001b[0;34m(\u001b[0m\u001b[0mtheta1\u001b[0m \u001b[0;34m-\u001b[0m \u001b[0metat\u001b[0m\u001b[0;34m*\u001b[0m\u001b[0;34m(\u001b[0m\u001b[0mclip\u001b[0m\u001b[0;34m(\u001b[0m\u001b[0mcompute_linear_gradient\u001b[0m\u001b[0;34m(\u001b[0m\u001b[0mtheta1\u001b[0m\u001b[0;34m,\u001b[0m \u001b[0mX\u001b[0m\u001b[0;34m[\u001b[0m\u001b[0mi\u001b[0m\u001b[0;34m]\u001b[0m\u001b[0;34m.\u001b[0m\u001b[0mreshape\u001b[0m\u001b[0;34m(\u001b[0m\u001b[0;34m(\u001b[0m\u001b[0;34m-\u001b[0m\u001b[0;36m1\u001b[0m\u001b[0;34m,\u001b[0m \u001b[0;36m1\u001b[0m\u001b[0;34m)\u001b[0m\u001b[0;34m)\u001b[0m\u001b[0;34m,\u001b[0m \u001b[0mY\u001b[0m\u001b[0;34m[\u001b[0m\u001b[0mi\u001b[0m\u001b[0;34m]\u001b[0m\u001b[0;34m)\u001b[0m\u001b[0;34m.\u001b[0m\u001b[0mreshape\u001b[0m\u001b[0;34m(\u001b[0m\u001b[0;34m(\u001b[0m\u001b[0;34m-\u001b[0m\u001b[0;36m1\u001b[0m\u001b[0;34m,\u001b[0m \u001b[0;36m1\u001b[0m\u001b[0;34m)\u001b[0m\u001b[0;34m)\u001b[0m\u001b[0;34m,\u001b[0m \u001b[0mself\u001b[0m\u001b[0;34m.\u001b[0m\u001b[0mL0\u001b[0m\u001b[0;34m,\u001b[0m \u001b[0mself\u001b[0m\u001b[0;34m.\u001b[0m\u001b[0mq\u001b[0m\u001b[0;34m)\u001b[0m \u001b[0;34m+\u001b[0m \u001b[0mGGNoise\u001b[0m\u001b[0;34m)\u001b[0m\u001b[0;34m)\u001b[0m\u001b[0;34m\u001b[0m\u001b[0;34m\u001b[0m\u001b[0m\n\u001b[0m\u001b[1;32m     45\u001b[0m             \u001b[0mtheta_list\u001b[0m\u001b[0;34m.\u001b[0m\u001b[0mappend\u001b[0m\u001b[0;34m(\u001b[0m\u001b[0mtheta1\u001b[0m\u001b[0;34m)\u001b[0m\u001b[0;34m\u001b[0m\u001b[0;34m\u001b[0m\u001b[0m\n\u001b[1;32m     46\u001b[0m             \u001b[0;32mif\u001b[0m \u001b[0mt\u001b[0m\u001b[0;34m%\u001b[0m\u001b[0;34m(\u001b[0m\u001b[0mn\u001b[0m\u001b[0;34m**\u001b[0m\u001b[0;36m2\u001b[0m\u001b[0;34m//\u001b[0m\u001b[0mself\u001b[0m\u001b[0;34m.\u001b[0m\u001b[0mtest_freq\u001b[0m\u001b[0;34m)\u001b[0m\u001b[0;34m==\u001b[0m\u001b[0;36m0\u001b[0m\u001b[0;34m:\u001b[0m\u001b[0;34m\u001b[0m\u001b[0;34m\u001b[0m\u001b[0m\n",
      "\u001b[0;31mKeyboardInterrupt\u001b[0m: "
     ]
    }
   ],
   "source": [
    "seed = 1\n",
    "p = np.inf\n",
    "T = 5000\n",
    "d = 5\n",
    "eta_scaling = 1\n",
    "lip = 1\n",
    "test_flag = True\n",
    "noise_free = False\n",
    "p, d, T, algo, scale, noise_free, test_flag, params  = generate_params('NoisySGD', seed=seed, p=p, d=d, T=T, scale=eta_scaling,\n",
    "                                                                      noise_free = noise_free, lip=lip, test_flag = test_flag)\n",
    "\n",
    "\n",
    "f, axs = plt.subplots(1, 2, figsize=(12,4))\n",
    "risk = [r[1] for r in params['result']['record']]\n",
    "axs[0].plot(risk)\n",
    "axs[0].set_title('T: {} d:{} p: {} noise free:{} scale:{}\\nbsl: {:.4f} \\n last risk: {:.4f} -- min risk {:.4f}'.format(\n",
    "    T, d, p, noise_free, scale,\n",
    "    params['result']['baseline'][0],\n",
    "    params['result']['record'][-1][1],\n",
    "    min(risk),\n",
    "))\n",
    "axs[0].hlines(params['result']['baseline'][0], 0, len(risk), 'r')\n",
    "axs[0].set_ylabel('risk', fontsize=20)\n",
    "\n",
    "subopt = [r[2] for r in params['result']['record']]\n",
    "axs[1].plot(subopt)\n",
    "axs[1].set_title('T: {} d:{} p: {} noise free:{} scale:{}\\nbsl: {:.4f} \\n last subopt: {:.4f} -- min subopt {:.4f}'.format(\n",
    "    T, d, p, noise_free, scale,\n",
    "    params['result']['baseline'][0],\n",
    "    params['result']['record'][-1][2],\n",
    "    min(subopt),\n",
    "))\n",
    "axs[1].hlines(1, 0, len(risk), 'r')\n",
    "axs[1].set_ylabel('subopt', fontsize=20)\n",
    "\n",
    "plt.show()"
   ]
  },
  {
   "cell_type": "code",
   "execution_count": null,
   "metadata": {},
   "outputs": [],
   "source": []
  },
  {
   "cell_type": "code",
   "execution_count": null,
   "metadata": {},
   "outputs": [],
   "source": []
  },
  {
   "cell_type": "code",
   "execution_count": null,
   "metadata": {},
   "outputs": [],
   "source": []
  },
  {
   "cell_type": "code",
   "execution_count": null,
   "metadata": {},
   "outputs": [],
   "source": []
  },
  {
   "cell_type": "code",
   "execution_count": 8,
   "metadata": {
    "scrolled": false
   },
   "outputs": [
    {
     "data": {
      "image/png": "[encoded data removed]",
      "text/plain": [
       "<Figure size 864x288 with 2 Axes>"
      ]
     },
     "metadata": {
      "needs_background": "light"
     },
     "output_type": "display_data"
    }
   ],
   "source": [
    "seed = 1\n",
    "p = np.inf\n",
    "T = 5000\n",
    "d = 5\n",
    "eta_scaling = 1\n",
    "noise_norm = 1\n",
    "test_flag = True\n",
    "noise_free = False\n",
    "p, d, T, algo, scale, noise_free, test_flag, params  = generate_params('NoisySGD', seed=seed, p=p, d=d, T=T, scale=eta_scaling,\n",
    "                                                                      noise_free = noise_free, noise_norm=noise_norm, test_flag = test_flag)\n",
    "\n",
    "\n",
    "f, axs = plt.subplots(1, 2, figsize=(12,4))\n",
    "risk = [r[1] for r in params['result']['record']]\n",
    "axs[0].plot(risk)\n",
    "axs[0].set_title('T: {} d:{} p: {} noise free:{} scale:{}\\nbsl: {:.4f} \\n last risk: {:.4f} -- min risk {:.4f}'.format(\n",
    "    T, d, p, noise_free, scale,\n",
    "    params['result']['baseline'][0],\n",
    "    params['result']['record'][-1][1],\n",
    "    min(risk),\n",
    "))\n",
    "axs[0].hlines(params['result']['baseline'][0], 0, len(risk), 'r')\n",
    "axs[0].set_ylabel('risk', fontsize=20)\n",
    "\n",
    "subopt = [r[2] for r in params['result']['record']]\n",
    "axs[1].plot(subopt)\n",
    "axs[1].set_title('T: {} d:{} p: {} noise free:{} scale:{}\\nbsl: {:.4f} \\n last subopt: {:.4f} -- min subopt {:.4f}'.format(\n",
    "    T, d, p, noise_free, scale,\n",
    "    params['result']['baseline'][0],\n",
    "    params['result']['record'][-1][2],\n",
    "    min(subopt),\n",
    "))\n",
    "axs[1].hlines(1, 0, len(risk), 'r')\n",
    "axs[1].set_ylabel('subopt', fontsize=20)\n",
    "\n",
    "plt.show()"
   ]
  },
  {
   "cell_type": "code",
   "execution_count": null,
   "metadata": {},
   "outputs": [],
   "source": []
  },
  {
   "cell_type": "code",
   "execution_count": null,
   "metadata": {},
   "outputs": [],
   "source": []
  },
  {
   "cell_type": "code",
   "execution_count": null,
   "metadata": {},
   "outputs": [],
   "source": []
  }
 ],
 "metadata": {
  "kernelspec": {
   "display_name": "Python 3",
   "language": "python",
   "name": "python3"
  },
  "language_info": {
   "codemirror_mode": {
    "name": "ipython",
    "version": 3
   },
   "file_extension": ".py",
   "mimetype": "text/x-python",
   "name": "python",
   "nbconvert_exporter": "python",
   "pygments_lexer": "ipython3",
   "version": "3.7.6"
  }
 },
 "nbformat": 4,
 "nbformat_minor": 4
}
