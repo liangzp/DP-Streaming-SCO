{
 "cells": [
  {
   "cell_type": "code",
   "execution_count": 1,
   "metadata": {},
   "outputs": [
    {
     "data": {
      "text/html": [
       "<style>.container { width:98% !important; }</style>"
      ],
      "text/plain": [
       "<IPython.core.display.HTML object>"
      ]
     },
     "metadata": {},
     "output_type": "display_data"
    }
   ],
   "source": [
    "from IPython.display import display, HTML\n",
    "display(HTML(\"<style>.container { width:98% !important; }</style>\"))"
   ]
  },
  {
   "cell_type": "code",
   "execution_count": 2,
   "metadata": {},
   "outputs": [],
   "source": [
    "import sys\n",
    "sys.path.append('../')\n",
    "\n",
    "import time\n",
    "import numpy as np\n",
    "from math import sqrt\n",
    "from utils import paras\n",
    "import sys\n",
    "import os\n",
    "import pickle\n",
    "import argparse\n",
    "import numpy as np\n",
    "from env import *\n",
    "from algo import *\n",
    "from utils import Logger\n",
    "from bandit_algo import *\n",
    "import matplotlib.pyplot as plt"
   ]
  },
  {
   "cell_type": "code",
   "execution_count": 3,
   "metadata": {},
   "outputs": [],
   "source": [
    "eps = 1e-5"
   ]
  },
  {
   "cell_type": "code",
   "execution_count": 4,
   "metadata": {},
   "outputs": [],
   "source": [
    "class SCO_steam_env:\n",
    "    def __init__(self, params):\n",
    "        paras(self, params)\n",
    "        self.random_seed = params['env']['random_seed']\n",
    "        self.x_std = params['env']['x_std']\n",
    "        self.y_std = params['env']['y_std']\n",
    "        self.p = params['env']['p']\n",
    "        if np.isinf(self.p):\n",
    "            self.q = 1\n",
    "        else:\n",
    "            self.q = self.p / (self.p - 1)\n",
    "        self.algo = params['algo']['type']\n",
    "        self.logger = params['logger']\n",
    "\n",
    "    def run(self):\n",
    "\n",
    "        # init theta\n",
    "        theta = np.zeros(shape=self.size_SCO)  \n",
    "        theta[:self.s] = 1\n",
    "        theta /= np.linalg.norm(theta.flatten(), self.p)\n",
    "\n",
    "        # initialize the baseline risk\n",
    "        self.algo.logger = self.logger\n",
    "        super(type(self.algo), self.algo).train(theta)\n",
    "\n",
    "        self.logger.record('time', time.time())\n",
    "\n",
    "        xs = np.random.normal(0, self.x_std, size=(self.T, self.d))\n",
    "        xs /= np.linalg.norm(xs, self.q, axis = 1, keepdims= True)\n",
    "        noise = np.random.normal(0, self.y_std, size=(self.T, 1))\n",
    "        ys = xs.dot(theta) + noise\n",
    "\n",
    "\n",
    "        for t in range(self.T):\n",
    "            x, y = xs[[t]], ys[[t]]\n",
    "            self.algo.update(x.T, y, self.T, t)\n",
    "            self.logger.record('est_error', np.linalg.norm(self.algo.theta_hat - theta) ** 2)\n",
    "\n",
    "        self.theta_hat = self.algo.theta_hat\n",
    "\n",
    "        # testing\n",
    "        X = np.random.normal(0, self.x_std, size=(10000, self.d))\n",
    "        X = np.array([x/np.linalg.norm(x, self.q) for x in X])\n",
    "        y = X.dot(theta) + np.random.normal(0, self.y_std, size=(10000, 1))\n",
    "        self.risk = ((X.dot(self.theta_hat) - y) ** 2).sum() / 10000\n",
    "        self.baseline = ((X.dot(np.zeros(self.size_SCO)) - y) ** 2).sum() / 10000\n",
    "        self.logger.record('baseline', self.baseline)\n",
    "        self.logger.record('end time', time.time())\n",
    "\n",
    "        print(self.logger.dict['record'][-1], self.logger.dict['baseline'][0])"
   ]
  },
  {
   "cell_type": "code",
   "execution_count": 5,
   "metadata": {},
   "outputs": [],
   "source": [
    "class Algo(object):\n",
    "    def __init__(self, params):\n",
    "        paras(self, params)\n",
    "\n",
    "    def update(self, theta0, theta1, x, y):\n",
    "        pass\n",
    "\n",
    "    def train(self,theta):\n",
    "        self.start_time = time.time()\n",
    "        X = np.random.normal(0, self.x_std, size=(self.test_size, self.d))\n",
    "        self.X = np.array([x/np.linalg.norm(x, self.q) for x in X])\n",
    "        self.y = self.X.dot(theta) + np.random.normal(0, self.y_std, size=(self.test_size, 1))\n",
    "        self.baseline = ((self.X.dot(np.zeros(self.size_SCO)) - self.y) ** 2).sum() / self.test_size\n",
    "        self.opt_risk = ((self.X.dot(theta) - self.y) ** 2).sum() / self.test_size\n",
    "        self.logger.record('baseline', self.baseline)\n",
    "\n",
    "    def test(self, t, theta_hat):\n",
    "        self.risk = ((self.X.dot(theta_hat) - self.y) ** 2).sum() / self.test_size\n",
    "        self.subopt = (self.risk - self.opt_risk)/(self.baseline-self.opt_risk)\n",
    "        self.logger.record('record', [t, self.risk, self.subopt])"
   ]
  },
  {
   "cell_type": "code",
   "execution_count": null,
   "metadata": {},
   "outputs": [],
   "source": []
  },
  {
   "cell_type": "code",
   "execution_count": 63,
   "metadata": {},
   "outputs": [],
   "source": [
    "class OFW_pge2(Algo):\n",
    "    '''\n",
    "    Algorithm for p>2. Learning rate should be <=1\n",
    "    '''\n",
    "    def __init__(self, params):\n",
    "        super().__init__(params)\n",
    "        self.dt = np.zeros(self.size_SCO)\n",
    "        self.etat, self.rhot = 1, 1\n",
    "        self.theta_hat_old, self.theta_hat = np.zeros(self.size_SCO), np.zeros(self.size_SCO)\n",
    "        self.Gt = np.zeros(self.size_SCO)  # clean summation of g_i up to t\n",
    "        self.r = 2 # since our theta is normalized to have norm=1\n",
    "\n",
    "        if np.isinf(self.p):\n",
    "            self.q = 1\n",
    "        else:\n",
    "            self.q = self.p / (self.p - 1)\n",
    "        self.kappa_q = self.d ** (1 - 2/self.p)\n",
    "        # self.kappa_q_plus = 1\n",
    "\n",
    "        self.noises = self.get_noise()\n",
    "        self.noise_by_step = self.get_noise_by_step()\n",
    "        \n",
    "    def print_component(self):\n",
    "        logn = np.ceil(np.log2(self.T)) + 1\n",
    "        print('q:', self.q)\n",
    "        print('kappa_q:', self.kappa_q)\n",
    "        print('logn:', logn)\n",
    "        print('np.log(logn / self.delta) :', np.log(logn / self.delta))\n",
    "        print('np.log(logn):', np.log(logn))\n",
    "        print('np.log(1/delta):', np.log(1/self.delta))\n",
    "        print('L1:', self.L1)\n",
    "        print('L0:', self.L0)\n",
    "        print('r:', self.r)\n",
    "        print('1/eps:', 1/self.eps)\n",
    "        print()\n",
    "\n",
    "    def lr_scheduler(self, t):\n",
    "        etat = 1 / (t + 1)\n",
    "        etat = etat * self.lr_scale\n",
    "        return etat\n",
    "\n",
    "    def get_sigma_plus(self, t):\n",
    "        etat = self.lr_scheduler(t)\n",
    "        logn = np.ceil(np.log2(self.T)) + 1\n",
    "        sigma_plus_2 = 8 * logn ** 2 * self.kappa_q * np.log(logn / self.delta) * (\n",
    "                self.L1 * 2 * self.r * (t+1) * etat + self.L0) ** 2 / self.eps ** 2\n",
    "        sigma_plus = sigma_plus_2 ** 0.5\n",
    "        d_pow = 1 / 2 - 1 / self.p\n",
    "        sigma_plus = sigma_plus / self.d ** d_pow\n",
    "\n",
    "        if t == 0:\n",
    "            self.print_component()\n",
    "            print('sigma_plus:', sigma_plus)\n",
    "\n",
    "        return sigma_plus\n",
    "\n",
    "    def get_noise(self):\n",
    "        noises = np.zeros((self.d, self.T))\n",
    "        for i in range(self.T):\n",
    "            sigma_plus = self.get_sigma_plus(i)\n",
    "            noises[:, i] = GGPlus(self.d, 2, sigma_plus)\n",
    "        return noises\n",
    "\n",
    "    def push_gt(self, gt):\n",
    "        self.Gt += gt\n",
    "\n",
    "    def get_noise_idx(self, t):\n",
    "        # in each round t, we need to know the indices of nodes we need to get the partial sum\n",
    "        # these indices will allow use the get the corresponding fixed noises of thoese nodes\n",
    "        # for example, when t=7, as need node A4+A6+A7,\n",
    "        # where A4 = g1+g2+g3+g4 + noise, A6 = g5 + g6 + noise, A7 = g7 + noise\n",
    "        # so we need to get the noise from A4, A6, A7. This function will return [4,6,7] for us.\n",
    "        # The idea is like, we decompose a number 7 into 4+2+1, the index for node would be 4, 4+2, 4+2+1\n",
    "        bin_t = format(t, 'b')\n",
    "        node_idx = []\n",
    "        for i in range(len(bin_t)):\n",
    "            if bin_t[i] == '1':\n",
    "                idx = '1' + '0' * (len(bin_t) - i - 1)\n",
    "                if len(node_idx) == 0:\n",
    "                    node_idx.append(int(idx, 2))\n",
    "                else:\n",
    "                    node_idx.append(node_idx[-1] + int(idx, 2))\n",
    "        return node_idx\n",
    "\n",
    "    # def get_Gt(self, t):\n",
    "    #     noise_idx = np.array(self.get_noise_idx(t)) - 1\n",
    "    #     if self.noise_free:\n",
    "    #         noise = np.zeros(shape=self.size_SCO)\n",
    "    #     else:\n",
    "    #         noise = self.noises[:, noise_idx].sum(axis=1)\n",
    "    #     return self.Gt + noise.reshape(self.size_SCO)\n",
    "\n",
    "    def get_noise_by_step(self):\n",
    "        noise_by_step = []\n",
    "\n",
    "        for t in range(1, self.T+1):\n",
    "            if self.noise_free:\n",
    "                noise = np.zeros(shape=self.size_SCO)\n",
    "            else:\n",
    "                noise_idx = np.array(self.get_noise_idx(t)) - 1\n",
    "                noise = self.noises[:, noise_idx].sum(axis=1)\n",
    "            noise_by_step.append(noise)\n",
    "\n",
    "        return np.array(noise_by_step)\n",
    "\n",
    "    def get_Gt(self, t):\n",
    "        return self.Gt + self.noise_by_step[t-1].reshape(self.size_SCO)\n",
    "\n",
    "\n",
    "    def update(self, x, y, T, t):\n",
    "\n",
    "        t = t + 1  # python starting from 0, while our algo starts from 1\n",
    "        self.rhot = 1 / (t + 1)\n",
    "        self.rhot = self.rhot * self.lr_scale\n",
    "\n",
    "        self.etat = self.lr_scheduler(t)\n",
    "\n",
    "        gradient0, gradient1 = compute_linear_gradient(self.theta_hat_old, x, y), compute_linear_gradient(\n",
    "            self.theta_hat, x, y)\n",
    "        gradient0 = clip(gradient0, self.L0, self.q)\n",
    "        gradient1 = clip(gradient1, self.L0, self.q)\n",
    "\n",
    "        gt = (t + 1) * gradient1 - t * gradient0\n",
    "        self.push_gt(gt)\n",
    "        Gt = self.get_Gt(t)\n",
    "        self.dt = Gt / (1 + t)\n",
    "        if np.isinf(self.p):\n",
    "            v = - np.sign(self.dt) * self.r\n",
    "        else:\n",
    "            v = -1 * np.sign(self.dt) * np.abs(self.dt) ** (self.q - 1) * self.r / np.linalg.norm(self.dt.flatten(), self.q) ** (self.q - 1)\n",
    "        self.theta_hat_old = copy.copy(self.theta_hat)\n",
    "        self.theta_hat = self.theta_hat + self.etat * (v - self.theta_hat)\n",
    "\n",
    "        # we control the total number of testing time to be self.test_freq\n",
    "        if (self.test_flag==True) and (t % max(1, (T // self.test_freq)) == 0):\n",
    "            self.test(t, self.theta_hat)\n",
    "        self.logger.record('iteration', t)\n",
    "        self.logger.record('time', time.time() - self.logger.dict['time'][0])\n",
    "\n",
    "    def decide(self, X, t):\n",
    "        reward = list()\n",
    "        for i in range(self.k):\n",
    "            reward.append(self.theta_hat.T.dot(X[:, i]))\n",
    "        at = np.argmax(reward)\n",
    "        return at"
   ]
  },
  {
   "cell_type": "code",
   "execution_count": null,
   "metadata": {},
   "outputs": [],
   "source": []
  },
  {
   "cell_type": "code",
   "execution_count": null,
   "metadata": {},
   "outputs": [],
   "source": []
  },
  {
   "cell_type": "code",
   "execution_count": 64,
   "metadata": {},
   "outputs": [],
   "source": [
    "def generate_params(algo, seed, p, d = 5, T = int(1e2), scale = 1, lip=1, noise_free = False, test_flag = False\n",
    "):  \n",
    "    params = dict()\n",
    "    params['env'] = {\"random_seed\": seed,\n",
    "                     \"T\": T,\n",
    "                     \"d\": d,\n",
    "                     \"s\": 5,  \n",
    "                     \"k\": 5,\n",
    "                     \"p\": p, \n",
    "                     \"x_std\": 0.05,\n",
    "                     \"y_std\": 0.05,\n",
    "                     \"test_size\": 1000, \n",
    "                     \"test_freq\" : T,\n",
    "                     \"lip\": lip,\n",
    "                     }\n",
    "\n",
    "    np.random.seed(seed)\n",
    "    \n",
    "    logger = Logger()\n",
    "    params['prv'] = {\"eps\": 1,\n",
    "                     \"delta\": 1/params['env']['T']}\n",
    "    params['logger'] = logger\n",
    "    params['algo'] = dict()\n",
    "    params['algo']['lr_scale'] = scale\n",
    "    params['algo']['noise_free'] = noise_free\n",
    "    params['algo']['test_flag'] = test_flag\n",
    "    params['bandit'] = dict()\n",
    "    if algo == 'OFW_ple2':\n",
    "        params['algo']['type'] = OFW_ple2(params)\n",
    "        env = SCO_steam_env(params)\n",
    "    elif algo == 'OFW_pge2':\n",
    "        params['algo']['type'] = OFW_pge2(params)\n",
    "        env = SCO_steam_env(params)\n",
    "    elif algo == 'Local_MD':\n",
    "        params['algo']['type'] = Local_MD(params)\n",
    "        env = SCO_batch_env(params)\n",
    "    elif algo=='NoisySFW':\n",
    "        params['algo']['type'] = NoisySFW(params)\n",
    "        env = SCO_batch_env(params)\n",
    "    elif algo=='NoisySGD':\n",
    "        params['algo']['type'] = NoisySGD(params)\n",
    "        env = SCO_batch_env(params)\n",
    "    elif algo=='DPUCB':\n",
    "        params['algo']['type'] = DPUCB(params)\n",
    "        params['bandit']['multi'] = False\n",
    "        env = bandits_env(params)\n",
    "    elif algo=='OFW_peq1':\n",
    "        params['algo']['type'] = OFW_peq1(params)\n",
    "        params['bandit']['multi'] = True\n",
    "        env = bandits_env(params)\n",
    "        \n",
    "    env.run()\n",
    "    params['result'] = env.logger.dict\n",
    "    return p, d, T, algo, str(scale), str(noise_free), str(test_flag), params"
   ]
  },
  {
   "cell_type": "code",
   "execution_count": 92,
   "metadata": {},
   "outputs": [
    {
     "name": "stdout",
     "output_type": "stream",
     "text": [
      "q: 1\n",
      "kappa_q: 10.0\n",
      "logn: 16.0\n",
      "np.log(logn / self.delta) : 12.676076274775909\n",
      "np.log(logn): 2.772588722239781\n",
      "np.log(1/delta): 9.903487552536127\n",
      "L1: 1\n",
      "L0: 1\n",
      "r: 1\n",
      "1/eps: 1.0\n",
      "\n",
      "sigma_plus: 483.3688424967724\n",
      "[20000, 0.05403456412675018, 0.6904869609516436] 0.07708892820045042\n"
     ]
    },
    {
     "data": {
      "image/png": "[encoded data removed]",
      "text/plain": [
       "<Figure size 864x288 with 2 Axes>"
      ]
     },
     "metadata": {
      "needs_background": "light"
     },
     "output_type": "display_data"
    }
   ],
   "source": [
    "seed = 22222\n",
    "p = np.inf\n",
    "T = 20000\n",
    "d = 10\n",
    "eta_scaling = 1\n",
    "lip = 1\n",
    "test_flag = True\n",
    "noise_free = False\n",
    "p, d, T, algo, scale, noise_free, test_flag, params  = generate_params('OFW_pge2', seed=seed, p=p, d=d, T=T, scale=eta_scaling, lip=lip,\n",
    "                                                                       noise_free = noise_free, test_flag = test_flag)\n",
    "\n",
    "\n",
    "f, axs = plt.subplots(1, 2, figsize=(12,4))\n",
    "risk = [r[1] for r in params['result']['record']]\n",
    "axs[0].plot(risk)\n",
    "axs[0].set_title('T: {} d:{} p: {} noise free:{} scale:{}\\nbsl: {:.4f} \\n last risk: {:.4f} -- min risk {:.4f}'.format(\n",
    "    T, d, p, noise_free, scale,\n",
    "    params['result']['baseline'][0],\n",
    "    params['result']['record'][-1][1],\n",
    "    min(risk),\n",
    "))\n",
    "axs[0].hlines(params['result']['baseline'][0], 0, T, 'r')\n",
    "axs[0].set_ylabel('risk', fontsize=20)\n",
    "\n",
    "subopt = [r[2] for r in params['result']['record']]\n",
    "axs[1].plot(subopt)\n",
    "axs[1].set_title('T: {} d:{} p: {} noise free:{} scale:{}\\nbsl: {:.4f} \\n last subopt: {:.4f} -- min subopt {:.4f}'.format(\n",
    "    T, d, p, noise_free, scale,\n",
    "    params['result']['baseline'][0],\n",
    "    params['result']['record'][-1][2],\n",
    "    min(subopt),\n",
    "))\n",
    "axs[1].hlines(1, 0, T, 'r')\n",
    "axs[1].set_ylabel('subopt', fontsize=20)\n",
    "\n",
    "plt.show()"
   ]
  },
  {
   "cell_type": "code",
   "execution_count": null,
   "metadata": {},
   "outputs": [],
   "source": []
  },
  {
   "cell_type": "code",
   "execution_count": null,
   "metadata": {},
   "outputs": [],
   "source": []
  },
  {
   "cell_type": "code",
   "execution_count": null,
   "metadata": {},
   "outputs": [],
   "source": []
  },
  {
   "cell_type": "code",
   "execution_count": null,
   "metadata": {},
   "outputs": [],
   "source": []
  },
  {
   "cell_type": "markdown",
   "metadata": {},
   "source": [
    "### compare the GGNoise when p=2 with normal distributuin"
   ]
  },
  {
   "cell_type": "code",
   "execution_count": 9,
   "metadata": {},
   "outputs": [
    {
     "data": {
      "text/plain": [
       "Text(0.5, 1.0, 'std=1')"
      ]
     },
     "execution_count": 9,
     "metadata": {},
     "output_type": "execute_result"
    },
    {
     "data": {
      "image/png": "[encoded data removed]",
      "text/plain": [
       "<Figure size 432x288 with 1 Axes>"
      ]
     },
     "metadata": {
      "needs_background": "light"
     },
     "output_type": "display_data"
    }
   ],
   "source": [
    "std = 1\n",
    "n_bins = 100\n",
    "\n",
    "normal = np.random.randn(5000)\n",
    "normal = normal * std\n",
    "\n",
    "gg = []\n",
    "for i in range(5000):\n",
    "    n = GGPlus(d=1, p=2, sigma_plus=std)\n",
    "    gg.append(n)\n",
    "gg = np.array(gg).squeeze()\n",
    "\n",
    "bins = np.histogram(np.hstack((gg,normal)), bins=n_bins)[1] #get the bin edges\n",
    "    \n",
    "plt.hist(normal, bins, label='normal')\n",
    "plt.hist(gg, bins, label='GGnoise')\n",
    "plt.legend()\n",
    "\n",
    "plt.title(f'std={std}')"
   ]
  },
  {
   "cell_type": "code",
   "execution_count": 10,
   "metadata": {},
   "outputs": [
    {
     "data": {
      "text/plain": [
       "Text(0.5, 1.0, 'std=2')"
      ]
     },
     "execution_count": 10,
     "metadata": {},
     "output_type": "execute_result"
    },
    {
     "data": {
      "image/png": "[encoded data removed]",
      "text/plain": [
       "<Figure size 432x288 with 1 Axes>"
      ]
     },
     "metadata": {
      "needs_background": "light"
     },
     "output_type": "display_data"
    }
   ],
   "source": [
    "std = 2\n",
    "n_bins = 100\n",
    "\n",
    "normal = np.random.randn(5000)\n",
    "normal = normal * std\n",
    "\n",
    "gg = []\n",
    "for i in range(5000):\n",
    "    n = GGPlus(d=1, p=2, sigma_plus=std)\n",
    "    gg.append(n)\n",
    "gg = np.array(gg).squeeze()\n",
    "\n",
    "bins = np.histogram(np.hstack((gg,normal)), bins=n_bins)[1] #get the bin edges\n",
    "    \n",
    "plt.hist(normal, bins, label='normal')\n",
    "plt.hist(gg, bins, label='GGnoise')\n",
    "plt.legend()\n",
    "\n",
    "plt.title(f'std={std}')"
   ]
  },
  {
   "cell_type": "code",
   "execution_count": 11,
   "metadata": {},
   "outputs": [
    {
     "data": {
      "text/plain": [
       "Text(0.5, 1.0, 'std=0.5')"
      ]
     },
     "execution_count": 11,
     "metadata": {},
     "output_type": "execute_result"
    },
    {
     "data": {
      "image/png": "[encoded data removed]",
      "text/plain": [
       "<Figure size 432x288 with 1 Axes>"
      ]
     },
     "metadata": {
      "needs_background": "light"
     },
     "output_type": "display_data"
    }
   ],
   "source": [
    "std = 0.5\n",
    "n_bins = 100\n",
    "\n",
    "normal = np.random.randn(5000)\n",
    "normal = normal * std\n",
    "\n",
    "gg = []\n",
    "for i in range(5000):\n",
    "    n = GGPlus(d=1, p=2, sigma_plus=std)\n",
    "    gg.append(n)\n",
    "gg = np.array(gg).squeeze()\n",
    "\n",
    "bins = np.histogram(np.hstack((gg,normal)), bins=n_bins)[1] #get the bin edges\n",
    "    \n",
    "plt.hist(normal, bins, label='normal')\n",
    "plt.hist(gg, bins, label='GGnoise')\n",
    "plt.legend()\n",
    "\n",
    "plt.title(f'std={std}')"
   ]
  },
  {
   "cell_type": "code",
   "execution_count": null,
   "metadata": {},
   "outputs": [],
   "source": []
  },
  {
   "cell_type": "code",
   "execution_count": null,
   "metadata": {},
   "outputs": [],
   "source": []
  },
  {
   "cell_type": "code",
   "execution_count": null,
   "metadata": {},
   "outputs": [],
   "source": []
  }
 ],
 "metadata": {
  "kernelspec": {
   "display_name": "Python 3",
   "language": "python",
   "name": "python3"
  },
  "language_info": {
   "codemirror_mode": {
    "name": "ipython",
    "version": 3
   },
   "file_extension": ".py",
   "mimetype": "text/x-python",
   "name": "python",
   "nbconvert_exporter": "python",
   "pygments_lexer": "ipython3",
   "version": "3.7.6"
  }
 },
 "nbformat": 4,
 "nbformat_minor": 4
}
