{
 "cells": [
  {
   "cell_type": "code",
   "execution_count": 1,
   "metadata": {},
   "outputs": [
    {
     "data": {
      "text/html": [
       "<style>.container { width:98% !important; }</style>"
      ],
      "text/plain": [
       "<IPython.core.display.HTML object>"
      ]
     },
     "metadata": {},
     "output_type": "display_data"
    }
   ],
   "source": [
    "from IPython.display import display, HTML\n",
    "display(HTML(\"<style>.container { width:98% !important; }</style>\"))"
   ]
  },
  {
   "cell_type": "code",
   "execution_count": 2,
   "metadata": {},
   "outputs": [],
   "source": [
    "import sys\n",
    "sys.path.append('../')\n",
    "\n",
    "import time\n",
    "import numpy as np\n",
    "from math import sqrt\n",
    "from utils import paras\n",
    "import sys\n",
    "import os\n",
    "import pickle\n",
    "import argparse\n",
    "import numpy as np\n",
    "from env import *\n",
    "from algo import *\n",
    "from utils import Logger\n",
    "from bandit_algo import *\n",
    "import matplotlib.pyplot as plt"
   ]
  },
  {
   "cell_type": "code",
   "execution_count": 3,
   "metadata": {},
   "outputs": [],
   "source": [
    "eps = 1e-5"
   ]
  },
  {
   "cell_type": "code",
   "execution_count": 4,
   "metadata": {},
   "outputs": [],
   "source": [
    "class SCO_batch_env:\n",
    "    def __init__(self, params):\n",
    "        paras(self, params)\n",
    "        self.random_seed = params['env']['random_seed']\n",
    "        self.x_std = params['env']['x_std']\n",
    "        self.y_std = params['env']['y_std']\n",
    "        self.algo = params['algo']['type']\n",
    "        self.p = params['env']['p']\n",
    "        if np.isinf(self.p):\n",
    "            self.q = 1\n",
    "        else:\n",
    "            self.q = self.p / (self.p - 1)\n",
    "        self.logger = params['logger']\n",
    "    \n",
    "    def run(self):\n",
    "        # init theta\n",
    "        theta = np.zeros(shape = self.size_SCO)\n",
    "        theta[:self.s] = 1\n",
    "        theta /= np.linalg.norm(theta.flatten(), self.p)\n",
    "        \n",
    "        X = np.random.normal(0, self.x_std, size = (self.T, self.d))\n",
    "        X = np.array([x/np.linalg.norm(x, self.q) for x in X])\n",
    "        y = X.dot(theta) + np.random.normal(0, self.y_std, size = (self.T, 1))\n",
    "        S = np.hstack((X,y))\n",
    "        self.theta_hat = self.algo.train(S, theta, self.logger)\n"
   ]
  },
  {
   "cell_type": "code",
   "execution_count": 5,
   "metadata": {},
   "outputs": [],
   "source": [
    "class Algo(object):\n",
    "    def __init__(self, params):\n",
    "        paras(self, params)\n",
    "\n",
    "    def update(self, theta0, theta1, x, y):\n",
    "        pass\n",
    "\n",
    "    def train(self,theta):\n",
    "        self.start_time = time.time()\n",
    "        X = np.random.normal(0, self.x_std, size=(self.test_size, self.d))\n",
    "        self.X = np.array([x/np.linalg.norm(x, self.q) for x in X])\n",
    "        self.y = self.X.dot(theta) + np.random.normal(0, self.y_std, size=(self.test_size, 1))\n",
    "        self.baseline = ((self.X.dot(np.zeros(self.size_SCO)) - self.y) ** 2).sum() / self.test_size\n",
    "        self.opt_risk = ((self.X.dot(theta) - self.y) ** 2).sum() / self.test_size\n",
    "        self.logger.record('baseline', self.baseline)\n",
    "\n",
    "    def test(self, t, theta_hat):\n",
    "        self.risk = ((self.X.dot(theta_hat) - self.y) ** 2).sum() / self.test_size\n",
    "        self.subopt = (self.risk - self.opt_risk)/(self.baseline-self.opt_risk)\n",
    "        self.logger.record('record', [t, self.risk, self.subopt])"
   ]
  },
  {
   "cell_type": "code",
   "execution_count": null,
   "metadata": {},
   "outputs": [],
   "source": []
  },
  {
   "cell_type": "code",
   "execution_count": 6,
   "metadata": {},
   "outputs": [],
   "source": [
    "class NoisySFW(Algo):\n",
    "    '''\n",
    "    Algorithm 3 in Bassily 2021 for 1<p<2\n",
    "    '''\n",
    "    def __init__(self, params):\n",
    "        paras(self, params)\n",
    "        self.p = params['env']['p']\n",
    "        self.q = self.p/(self.p - 1)\n",
    "        self.kappa_q = min(self.q - 1, np.exp(1) ** 2 * (np.log(self.d) - 1))\n",
    "        self.kappa_q_plus = min(self.q - 1, np.log(self.d) - 1)\n",
    "        \n",
    "        \n",
    "    def train(self, S, theta, logger):\n",
    "        self.logger = logger\n",
    "        super().train(theta)\n",
    "        r = 2 * np.linalg.norm(theta.flatten(), self.p) \n",
    "        M = 2 * r\n",
    "        nabla = np.zeros(shape = (self.d, 1))\n",
    "        n = S.shape[0]\n",
    "        eta = log(n)/(2*sqrt(n)) * self.lr_scale\n",
    "        self.logger.record('time', time.time())\n",
    "\n",
    "        theta0 = np.zeros(shape = self.size_SCO)\n",
    "\n",
    "        B0 = S[: len(S)//2]\n",
    "        Shat = S[len(S)//2:]\n",
    "        sigma = 4 * 2 **0.5 * sqrt(self.kappa_q) * self.L0 * log(1/self.delta) ** 0.5 / (n * self.eps)\n",
    "        if self.noise_free: \n",
    "            GGNoise = np.zeros(shape = self.size_SCO)\n",
    "        else:\n",
    "            GGNoise = GGPlus(self.d, self.kappa_q_plus, sigma)\n",
    "        nabla = np.mean([compute_linear_gradient(theta0, s[:-1], s[-1]) for s in B0], axis = 0).reshape((-1, 1))\\\n",
    "                + GGNoise.reshape((-1, 1))\n",
    "        theta1 = (1-eta)*theta0 + eta * argmin(nabla, self.p, r)\n",
    "        sigma = sqrt((32*self.kappa_q*self.L1**2*M**2*eta**2*log(1/self.delta))/(n*self.eps**2))\n",
    "        theta_list = list()\n",
    "        \n",
    "        for t in range(1, int(sqrt(n))):\n",
    "            B = Shat[(t-1)*int(sqrt(n)//2):t*int(sqrt(n)//2)]\n",
    "            if self.noise_free: \n",
    "                GGNoise = np.zeros(shape = self.size_SCO)\n",
    "            else:\n",
    "                GGNoise = GGPlus(self.d, self.kappa_q_plus, sigma).reshape((-1, 1)) \n",
    "            grad = np.mean([compute_linear_gradient(theta1, s[:-1], s[-1]) - compute_linear_gradient(theta0, s[:-1], s[-1]) for s in B], axis = 0).reshape((-1, 1))\n",
    "            print(\"{:.3f} -- {:.3f} -- {:.3f}\".format(np.linalg.norm(grad, 2), np.linalg.norm(GGNoise, 2), np.linalg.norm(GGNoise, 2)/np.linalg.norm(grad, 2)))\n",
    "            grad = grad + GGNoise\n",
    "            nabla += grad\n",
    "            theta0 = copy.deepcopy(theta1)\n",
    "            theta1 = (1-eta)*theta1 + eta*argmin(nabla, self.p, r)\n",
    "            if (t%max(1, int(sqrt(n))//self.test_freq)==0) and (self.test_flag==True):    \n",
    "                self.test(t, theta1)\n",
    "            self.logger.record('iteration', t)\n",
    "            self.logger.record('time', time.time() - self.logger.dict['time'][0])\n",
    "        return theta1"
   ]
  },
  {
   "cell_type": "code",
   "execution_count": 7,
   "metadata": {},
   "outputs": [],
   "source": [
    "def generate_params(algo, seed, p, d = 5, T = int(1e2), scale = 1, noise_free = False, test_flag = False):  \n",
    "    params = dict()\n",
    "    params['env'] = {\"random_seed\": seed,\n",
    "                     \"T\": T,\n",
    "                     \"d\": d,\n",
    "                     \"s\": 5,  \n",
    "                     \"k\": 5,\n",
    "                     \"p\": p, \n",
    "                     \"x_std\": 0.05,\n",
    "                     \"y_std\": 0.05,\n",
    "                     \"test_size\": 1000, \n",
    "                     \"test_freq\" : T,\n",
    "                     }\n",
    "\n",
    "    np.random.seed(seed)\n",
    "    \n",
    "    logger = Logger()\n",
    "    params['prv'] = {\"eps\": 1,\n",
    "                     \"delta\": 1/params['env']['T']}\n",
    "    params['logger'] = logger\n",
    "    params['algo'] = dict()\n",
    "    params['algo']['lr_scale'] = scale\n",
    "    params['algo']['noise_free'] = noise_free\n",
    "    params['algo']['test_flag'] = test_flag\n",
    "    params['bandit'] = dict()\n",
    "    if algo == 'OFW_ple2':\n",
    "        params['algo']['type'] = OFW_ple2(params)\n",
    "        env = SCO_steam_env(params)\n",
    "    elif algo == 'OFW_pge2':\n",
    "        params['algo']['type'] = OFW_pge2(params)\n",
    "        env = SCO_steam_env(params)\n",
    "    elif algo == 'Local_MD':\n",
    "        params['algo']['type'] = Local_MD(params)\n",
    "        env = SCO_batch_env(params)\n",
    "    elif algo=='NoisySFW':\n",
    "        params['algo']['type'] = NoisySFW(params)\n",
    "        env = SCO_batch_env(params)\n",
    "    elif algo=='NoisySGD':\n",
    "        params['algo']['type'] = NoisySGD(params)\n",
    "        env = SCO_batch_env(params)\n",
    "    elif algo=='DPUCB':\n",
    "        params['algo']['type'] = DPUCB(params)\n",
    "        params['bandit']['multi'] = False\n",
    "        env = bandits_env(params)\n",
    "    elif algo=='OFW_peq1':\n",
    "        params['algo']['type'] = OFW_peq1(params)\n",
    "        params['bandit']['multi'] = True\n",
    "        env = bandits_env(params)\n",
    "        \n",
    "    env.run()\n",
    "    params['result'] = env.logger.dict\n",
    "    return p, d, T, algo, str(scale), str(noise_free), str(test_flag), params\n"
   ]
  },
  {
   "cell_type": "code",
   "execution_count": null,
   "metadata": {},
   "outputs": [],
   "source": []
  },
  {
   "cell_type": "code",
   "execution_count": 8,
   "metadata": {},
   "outputs": [
    {
     "name": "stdout",
     "output_type": "stream",
     "text": [
      "0.008 -- 0.457 -- 56.677\n",
      "0.009 -- 0.500 -- 55.405\n",
      "0.006 -- 0.331 -- 57.386\n",
      "0.006 -- 0.269 -- 47.333\n",
      "0.008 -- 0.278 -- 34.624\n",
      "0.006 -- 0.389 -- 60.138\n",
      "0.008 -- 0.153 -- 20.250\n",
      "0.008 -- 0.382 -- 48.520\n",
      "0.007 -- 0.281 -- 40.601\n",
      "0.008 -- 0.437 -- 57.042\n",
      "0.006 -- 0.275 -- 46.952\n",
      "0.009 -- 0.451 -- 49.623\n",
      "0.005 -- 0.189 -- 37.368\n",
      "0.005 -- 0.288 -- 60.963\n",
      "0.007 -- 0.393 -- 57.336\n",
      "0.009 -- 0.295 -- 34.639\n",
      "0.008 -- 0.480 -- 63.775\n",
      "0.006 -- 0.533 -- 85.592\n",
      "0.007 -- 0.348 -- 49.867\n",
      "0.003 -- 0.381 -- 117.986\n",
      "0.006 -- 0.251 -- 39.541\n",
      "0.005 -- 0.314 -- 67.930\n",
      "0.007 -- 0.372 -- 56.751\n",
      "0.005 -- 0.333 -- 60.592\n",
      "0.004 -- 0.315 -- 76.497\n",
      "0.005 -- 0.381 -- 77.118\n",
      "0.010 -- 0.305 -- 30.241\n",
      "0.006 -- 0.387 -- 65.970\n",
      "0.004 -- 0.298 -- 82.154\n",
      "0.003 -- 0.207 -- 63.755\n"
     ]
    },
    {
     "data": {
      "image/png": "[encoded data removed]",
      "text/plain": [
       "<Figure size 864x288 with 2 Axes>"
      ]
     },
     "metadata": {
      "needs_background": "light"
     },
     "output_type": "display_data"
    }
   ],
   "source": [
    "seed = 5\n",
    "p = 1.5\n",
    "T = 1000\n",
    "d = 10\n",
    "eta_scaling = 1e-1\n",
    "test_flag = True\n",
    "noise_free = False\n",
    "p, d, T, algo, scale, noise_free, test_flag, params  = generate_params('NoisySFW', seed=seed, p=p, d=d, T=T, scale=eta_scaling,\n",
    "                                                                      noise_free = noise_free, test_flag = test_flag)\n",
    "\n",
    "\n",
    "f, axs = plt.subplots(1, 2, figsize=(12,4))\n",
    "risk = [r[1] for r in params['result']['record']]\n",
    "axs[0].plot(risk)\n",
    "axs[0].set_title('T: {} d:{} p: {} noise free:{} scale:{}\\nbsl: {:.4f} \\n last risk: {:.4f} -- min risk {:.4f}'.format(\n",
    "    T, d, p, noise_free, scale,\n",
    "    params['result']['baseline'][0],\n",
    "    params['result']['record'][-1][1],\n",
    "    min(risk),\n",
    "))\n",
    "axs[0].hlines(params['result']['baseline'][0], 0, len(risk), 'r')\n",
    "axs[0].set_ylabel('risk', fontsize=20)\n",
    "\n",
    "subopt = [r[2] for r in params['result']['record']]\n",
    "axs[1].plot(subopt)\n",
    "axs[1].set_title('T: {} d:{} p: {} noise free:{} scale:{}\\nbsl: {:.4f} \\n last subopt: {:.4f} -- min subopt {:.4f}'.format(\n",
    "    T, d, p, noise_free, scale,\n",
    "    params['result']['baseline'][0],\n",
    "    params['result']['record'][-1][2],\n",
    "    min(subopt),\n",
    "))\n",
    "axs[1].hlines(1, 0, len(risk), 'r')\n",
    "axs[1].set_ylabel('subopt', fontsize=20)\n",
    "\n",
    "plt.show()"
   ]
  },
  {
   "cell_type": "code",
   "execution_count": null,
   "metadata": {},
   "outputs": [],
   "source": []
  },
  {
   "cell_type": "code",
   "execution_count": null,
   "metadata": {},
   "outputs": [],
   "source": []
  },
  {
   "cell_type": "code",
   "execution_count": null,
   "metadata": {},
   "outputs": [],
   "source": []
  },
  {
   "cell_type": "code",
   "execution_count": null,
   "metadata": {},
   "outputs": [],
   "source": []
  }
 ],
 "metadata": {
  "kernelspec": {
   "display_name": "Python 3",
   "language": "python",
   "name": "python3"
  },
  "language_info": {
   "codemirror_mode": {
    "name": "ipython",
    "version": 3
   },
   "file_extension": ".py",
   "mimetype": "text/x-python",
   "name": "python",
   "nbconvert_exporter": "python",
   "pygments_lexer": "ipython3",
   "version": "3.7.6"
  }
 },
 "nbformat": 4,
 "nbformat_minor": 4
}
